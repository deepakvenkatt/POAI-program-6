{
  "nbformat": 4,
  "nbformat_minor": 0,
  "metadata": {
    "colab": {
      "provenance": [],
      "authorship_tag": "ABX9TyNWfLFp2MstbPGQgWJVG392",
      "include_colab_link": true
    },
    "kernelspec": {
      "name": "python3",
      "display_name": "Python 3"
    },
    "language_info": {
      "name": "python"
    }
  },
  "cells": [
    {
      "cell_type": "markdown",
      "metadata": {
        "id": "view-in-github",
        "colab_type": "text"
      },
      "source": [
        "<a href=\"https://colab.research.google.com/github/deepakvenkatt/POAI-program-6/blob/main/Untitled7.ipynb\" target=\"_parent\"><img src=\"https://colab.research.google.com/assets/colab-badge.svg\" alt=\"Open In Colab\"/></a>"
      ]
    },
    {
      "cell_type": "code",
      "execution_count": 1,
      "metadata": {
        "colab": {
          "base_uri": "https://localhost:8080/"
        },
        "id": "Pkj_GlSpaYWT",
        "outputId": "1aba0f7f-fc05-43c8-d8b6-b95ba4ce64ef"
      },
      "outputs": [
        {
          "output_type": "stream",
          "name": "stdout",
          "text": [
            "=== Unification Demo ===\n",
            "Unify: ['likes', 'john', 'X'] and ['likes', 'john', 'pizza']\n",
            "Result: {'pizza': 'X'}\n",
            "\n",
            "=== Resolution Demo ===\n",
            "Clauses: ['A', 'B'] and ['~B', 'C']\n",
            "Resolved: [['A', 'C']]\n"
          ]
        }
      ],
      "source": [
        "# --- Unification Section ---\n",
        "def unify(x, y, subst=None):\n",
        "    if subst is None:\n",
        "        subst = {}\n",
        "\n",
        "    if subst is None:\n",
        "        return None\n",
        "    elif x == y:\n",
        "        return subst\n",
        "    elif is_variable(x):\n",
        "        return unify_var(x, y, subst)\n",
        "    elif is_variable(y):\n",
        "        return unify_var(y, x, subst)\n",
        "    elif isinstance(x, list) and isinstance(y, list) and len(x) == len(y):\n",
        "        for xi, yi in zip(x, y):\n",
        "            subst = unify(xi, yi, subst)\n",
        "            if subst is None:\n",
        "                return None\n",
        "        return subst\n",
        "    else:\n",
        "        return None\n",
        "\n",
        "def unify_var(var, x, subst):\n",
        "    if var in subst:\n",
        "        return unify(subst[var], x, subst)\n",
        "    elif x in subst:\n",
        "        return unify(var, subst[x], subst)\n",
        "    else:\n",
        "        subst[var] = x\n",
        "        return subst\n",
        "\n",
        "def is_variable(x):\n",
        "    return isinstance(x, str) and x[0].islower()\n",
        "\n",
        "# --- Resolution Section ---\n",
        "def resolve(ci, cj):\n",
        "    resolvents = []\n",
        "    for di in ci:\n",
        "        for dj in cj:\n",
        "            if di == negate(dj):\n",
        "                new_clause = list(set(ci + cj))\n",
        "                new_clause.remove(di)\n",
        "                new_clause.remove(dj)\n",
        "                resolvents.append(sorted(new_clause))\n",
        "    return resolvents\n",
        "\n",
        "def negate(literal):\n",
        "    return literal[1:] if literal.startswith('') else '' + literal\n",
        "\n",
        "# --- Demo Section ---\n",
        "\n",
        "print(\"=== Unification Demo ===\")\n",
        "term1 = ['likes', 'john', 'X']\n",
        "term2 = ['likes', 'john', 'pizza']\n",
        "unify_result = unify(term1, term2)\n",
        "print(\"Unify:\", term1, \"and\", term2)\n",
        "print(\"Result:\", unify_result)\n",
        "\n",
        "print(\"\\n=== Resolution Demo ===\")\n",
        "C1 = ['A', 'B']\n",
        "C2 = ['~B', 'C']\n",
        "resolved_clauses = resolve(C1, C2)\n",
        "print(\"Clauses:\", C1, \"and\", C2)\n",
        "print(\"Resolved:\", resolved_clauses)"
      ]
    }
  ]
}